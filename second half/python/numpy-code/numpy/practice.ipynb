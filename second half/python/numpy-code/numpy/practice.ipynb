{
 "cells": [
  {
   "cell_type": "code",
   "execution_count": 1,
   "metadata": {},
   "outputs": [
    {
     "name": "stdout",
     "output_type": "stream",
     "text": [
      "int32\n"
     ]
    }
   ],
   "source": [
    "import numpy as np\n",
    "arr = np.array([1, 2, 3, 4], dtype=\"i4\")\n",
    "print(arr.dtype)"
   ]
  },
  {
   "cell_type": "code",
   "execution_count": 2,
   "metadata": {},
   "outputs": [
    {
     "data": {
      "text/plain": [
       "array([1, 2, 3, 4], dtype=int8)"
      ]
     },
     "execution_count": 2,
     "metadata": {},
     "output_type": "execute_result"
    }
   ],
   "source": [
    "arr.astype('int8')"
   ]
  },
  {
   "cell_type": "code",
   "execution_count": 3,
   "metadata": {},
   "outputs": [
    {
     "name": "stdout",
     "output_type": "stream",
     "text": [
      "(4,)\n",
      "(2, 2)\n",
      "[[1 2]\n",
      " [3 4]]\n",
      "[1 2 3 4]\n",
      "[1 2 3 4]\n",
      "None\n"
     ]
    }
   ],
   "source": [
    "arr = np.array([1, 2, 3, 4])\n",
    "view_arr = arr.view()\n",
    "view_arr.shape = (2, 2)  # works, arr stays 1D\n",
    "print(arr.shape)\n",
    "print(view_arr.shape)\n",
    "print(view_arr)\n",
    "print(arr)\n",
    "barr=arr\n",
    "print(view_arr.base)\n",
    "print(barr.base)"
   ]
  },
  {
   "cell_type": "code",
   "execution_count": 4,
   "metadata": {},
   "outputs": [
    {
     "name": "stdout",
     "output_type": "stream",
     "text": [
      "[ 2  3  4  5  3  4 56  4  2 34 55  5]\n",
      "1\n",
      "1\n",
      "[ 2  3  4  5  3  4 56  4  2 34 55  5]\n"
     ]
    }
   ],
   "source": [
    "arr = np.array([[[2,3,4,5], [3,4,56,4], [2,34,55,5]]])\n",
    "arr.flatten()\n",
    "print(arr.flatten())\n",
    "print((arr.flatten()).ndim)\n",
    "arr2 = arr.reshape(-1)\n",
    "print(arr2.ndim)\n",
    "print(arr2)"
   ]
  },
  {
   "cell_type": "code",
   "execution_count": 5,
   "metadata": {},
   "outputs": [
    {
     "name": "stdout",
     "output_type": "stream",
     "text": [
      "[[[ 1  2  3]\n",
      "  [ 4  5  6]\n",
      "  [ 7  8  9]]\n",
      "\n",
      " [[10 11 12]\n",
      "  [13 14 15]\n",
      "  [16 17 18]]]\n",
      "[[[ 1 10]\n",
      "  [ 4 13]\n",
      "  [ 7 16]]\n",
      "\n",
      " [[ 2 11]\n",
      "  [ 5 14]\n",
      "  [ 8 17]]\n",
      "\n",
      " [[ 3 12]\n",
      "  [ 6 15]\n",
      "  [ 9 18]]]\n",
      "[[[ 1  2  3]\n",
      "  [10 11 12]]\n",
      "\n",
      " [[ 4  5  6]\n",
      "  [13 14 15]]\n",
      "\n",
      " [[ 7  8  9]\n",
      "  [16 17 18]]]\n"
     ]
    }
   ],
   "source": [
    "arr_1d = np.array([1, 2, 3, 4, 5, 6, 7, 8, 9])\n",
    "\n",
    "# Initial 2D array (3x3)\n",
    "arr_2d = np.array([[1, 2, 3], [4, 5, 6], [7, 8, 9]])\n",
    "\n",
    "# Initial 3D array (2x3x3)\n",
    "arr_3d = np.array([[[1, 2, 3], [4, 5, 6], [7, 8, 9]],\n",
    "                   [[10, 11, 12], [13, 14, 15], [16, 17, 18]]])\n",
    "print(arr_3d)\n",
    "transposed_3d = arr_3d.T\n",
    "print(transposed_3d)\n",
    "print(arr_3d.transpose(1,0,2))\n"
   ]
  },
  {
   "cell_type": "code",
   "execution_count": 6,
   "metadata": {},
   "outputs": [
    {
     "name": "stdout",
     "output_type": "stream",
     "text": [
      "[0 3 6 1 4 7 2 5 8] [0 3 6 1 4 7 2 5 8]\n",
      "None\n",
      "[[0 3 6]\n",
      " [1 4 7]\n",
      " [2 5 8]]\n"
     ]
    }
   ],
   "source": [
    "arr = np.arange(9).reshape(3, 3).T  # transpose = non-contiguous memory\n",
    "raveled = arr.ravel()\n",
    "flatter=arr.reshape(-1)\n",
    "print(flatter,raveled)\n",
    "print(raveled.base)  # False → it’s a copy!\n",
    "print(flatter.base)\n"
   ]
  },
  {
   "cell_type": "code",
   "execution_count": 7,
   "metadata": {},
   "outputs": [
    {
     "name": "stdout",
     "output_type": "stream",
     "text": [
      "[1 2 3 4 5 6]\n",
      "True\n",
      "[[999   2   3]\n",
      " [  4   5   6]]\n",
      "[999   2   3   4   5   6]\n",
      "False\n",
      "False\n",
      "False\n",
      "True\n",
      "True\n",
      "False\n",
      "False\n",
      "False\n"
     ]
    }
   ],
   "source": [
    "arr = np.array([[1, 2, 3], [4, 5, 6]])\n",
    "flat = arr.reshape(-1)\n",
    "\n",
    "print(flat)  # [1 2 3 4 5 6]\n",
    "print(flat.base is arr) #t\n",
    "flat[0] = 999\n",
    "print(arr)  # 😨 might or might not change!\n",
    "\n",
    "arr = np.arange(9).reshape(3, 3)\n",
    "print(flat)\n",
    "sliced = arr[:,:]  # take columns 0 & 2\n",
    "flattened = sliced.reshape(-1)  \n",
    "\n",
    "print(flattened.base is sliced)  #f\n",
    "print(sliced.base is arr) #t\n",
    "print(flattened.base is arr) #t\n",
    "\n",
    "\n",
    "arr = np.array([[1, 2, 3], [4, 5, 6]])\n",
    "flat = arr.ravel()\n",
    "print(flat.base is arr)#t\n",
    "\n",
    "\n",
    "flat[0] = 999\n",
    "print(flat.base is arr)#t\n",
    "\n",
    "\n",
    "arr = np.arange(9).reshape(3, 3)\n",
    "print(flat.base is arr)#f\n",
    "sliced = arr[:, ::2]  # columns 0 & 2\n",
    "flat = sliced.ravel()\n",
    "\n",
    "print(flat.base is sliced) # f\n",
    "print(sliced.base is arr) #t"
   ]
  },
  {
   "cell_type": "code",
   "execution_count": 8,
   "metadata": {},
   "outputs": [
    {
     "name": "stdout",
     "output_type": "stream",
     "text": [
      "[[[1. 1. 1. 1.]\n",
      "  [1. 1. 1. 1.]\n",
      "  [1. 1. 1. 1.]]\n",
      "\n",
      " [[1. 1. 1. 1.]\n",
      "  [1. 1. 1. 1.]\n",
      "  [1. 1. 1. 1.]]]\n"
     ]
    }
   ],
   "source": [
    "arr1 = np.ones((2, 1, 4))  # shape (2,1,4)\n",
    "arr2 = np.ones((3, 4))  # shape (3,4)\n",
    "\n",
    "print((arr1 * arr2))\n"
   ]
  },
  {
   "cell_type": "code",
   "execution_count": 9,
   "metadata": {},
   "outputs": [
    {
     "name": "stdout",
     "output_type": "stream",
     "text": [
      "[[[1 2]\n",
      "  [5 6]]\n",
      "\n",
      " [[3 4]\n",
      "  [7 8]]]\n"
     ]
    }
   ],
   "source": [
    "arr1 = np.array([[1, 2], [3, 4]])\n",
    "arr2 = np.array([[5, 6], [7, 8]])\n",
    "arr = np.stack((arr1, arr2), axis=1)  # Concatenate along axis 1 (columns)\n",
    "print(arr)"
   ]
  },
  {
   "cell_type": "code",
   "execution_count": 12,
   "metadata": {},
   "outputs": [
    {
     "name": "stdout",
     "output_type": "stream",
     "text": [
      "(3, 3)\n",
      "[[[  1  10 100]\n",
      "  [  2  20 200]\n",
      "  [  3  30 300]]\n",
      "\n",
      " [[  4  40 400]\n",
      "  [  5  50 500]\n",
      "  [  6  60 600]]\n",
      "\n",
      " [[  7  70 700]\n",
      "  [  8  80 800]\n",
      "  [  9  90 900]]]\n",
      "(3, 3, 3)\n"
     ]
    }
   ],
   "source": [
    "import numpy as np\n",
    "\n",
    "a = np.array([[1, 2, 3], [4, 5, 6], [7, 8, 9]])\n",
    "b = np.array([[10, 20, 30], [40, 50, 60], [70, 80, 90]])\n",
    "c = np.array([[100, 200, 300], [400, 500, 600], [700, 800, 900]])\n",
    "d = np.array([['a','b','c'],['d','e' ,'f'],['g','h','i']])\n",
    "result = np.stack((a, b, c), axis=2) \n",
    "print(a.shape)\n",
    "print(result)\n",
    "print(result.shape)"
   ]
  }
 ],
 "metadata": {
  "kernelspec": {
   "display_name": "zephyr1",
   "language": "python",
   "name": "python3"
  },
  "language_info": {
   "codemirror_mode": {
    "name": "ipython",
    "version": 3
   },
   "file_extension": ".py",
   "mimetype": "text/x-python",
   "name": "python",
   "nbconvert_exporter": "python",
   "pygments_lexer": "ipython3",
   "version": "3.9.20"
  }
 },
 "nbformat": 4,
 "nbformat_minor": 2
}
