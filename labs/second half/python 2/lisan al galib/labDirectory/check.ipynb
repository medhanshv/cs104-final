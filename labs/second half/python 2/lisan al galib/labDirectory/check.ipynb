{
 "cells": [
  {
   "cell_type": "code",
   "execution_count": 7,
   "metadata": {},
   "outputs": [
    {
     "name": "stdout",
     "output_type": "stream",
     "text": [
      "60\n",
      "[50 43  6]\n",
      "[[ 2.15714593  6.18205206]\n",
      " [ 5.64803089  6.18778736]\n",
      " [ 0.1622132  -1.93830445]]\n"
     ]
    }
   ],
   "source": [
    "import numpy as np\n",
    "k=3\n",
    "data=np.loadtxt('spice_locations.txt',delimiter=\",\")\n",
    "print(data.shape[0])\n",
    "selected_indices=np.random.choice(data.shape[0],k,replace=False)\n",
    "print(selected_indices)\n",
    "print(data[selected_indices])\n",
    "        "
   ]
  },
  {
   "cell_type": "code",
   "execution_count": 2,
   "metadata": {},
   "outputs": [],
   "source": [
    "np.ones(data.shape[0],dtype=int)\n",
    "centers=data[np.random.choice(data.shape[0],k,replace=False)]"
   ]
  },
  {
   "cell_type": "code",
   "execution_count": 8,
   "metadata": {},
   "outputs": [
    {
     "name": "stdout",
     "output_type": "stream",
     "text": [
      "(60, 1, 2)\n",
      "(1, 3, 2)\n"
     ]
    }
   ],
   "source": [
    "print(np.shape(data[:,None,:]))\n",
    "print(np.shape(centers[None,:,:]))\n",
    "distances=np.linalg.norm(data[:, None, :] - centers[None, :, :], axis=2)"
   ]
  },
  {
   "cell_type": "code",
   "execution_count": 23,
   "metadata": {},
   "outputs": [
    {
     "name": "stdout",
     "output_type": "stream",
     "text": [
      "[1 1 0 1 1 1 0 0 0 0 0 0 1 0 0 0 1 1 0 0 0 1 1 0 0 1 1 1 0 0 2 2 2 2 2 2 2\n",
      " 2 2 2 2 2 2 2 2 2 2 2 2 2 2 2 2 2 2 2 2 2 2 2]\n",
      "(30, 2)\n",
      "[4.51518371 5.35201025]\n"
     ]
    }
   ],
   "source": [
    "labels = np.argmin(distances, axis=1)\n",
    "print(labels)\n",
    "cluster_points = data[labels==2] \n",
    "print(cluster_points.shape)\n",
    "print(np.mean(cluster_points, axis=0))"
   ]
  },
  {
   "cell_type": "code",
   "execution_count": 26,
   "metadata": {},
   "outputs": [
    {
     "name": "stdout",
     "output_type": "stream",
     "text": [
      "[ 0  1  2  3  4  5  6  7  8  9 10 11 12 13 14 15 16 17 18 19 20 21 22 23\n",
      " 24 25 26 27 28 29 30 31 32 33 34 35 36 37 38 39 40 41 42 43 44 45 46 47\n",
      " 48 49 50 51 52 53 54 55 56 57 58 59]\n",
      "[1 1 0 1 1 1 0 0 0 0 0 0 1 0 0 0 1 1 0 0 0 1 1 0 0 1 1 1 0 0 2 2 2 2 2 2 2\n",
      " 2 2 2 2 2 2 2 2 2 2 2 2 2 2 2 2 2 2 2 2 2 2 2]\n"
     ]
    }
   ],
   "source": [
    "indices, clusters = np.where(labels[:,None]==np.arange(k))\n",
    "print(indices)\n",
    "print(clusters)"
   ]
  }
 ],
 "metadata": {
  "kernelspec": {
   "display_name": "zephyr1",
   "language": "python",
   "name": "python3"
  },
  "language_info": {
   "codemirror_mode": {
    "name": "ipython",
    "version": 3
   },
   "file_extension": ".py",
   "mimetype": "text/x-python",
   "name": "python",
   "nbconvert_exporter": "python",
   "pygments_lexer": "ipython3",
   "version": "3.9.20"
  }
 },
 "nbformat": 4,
 "nbformat_minor": 2
}
