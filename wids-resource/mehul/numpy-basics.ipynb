{
 "cells": [
  {
   "cell_type": "code",
   "execution_count": 1,
   "id": "09b56d39",
   "metadata": {},
   "outputs": [],
   "source": [
    "import numpy as np\n",
    "from time import time\n",
    "import matplotlib.pyplot as plt"
   ]
  },
  {
   "cell_type": "markdown",
   "id": "78b02f82",
   "metadata": {},
   "source": [
    "# **What is a numpy array**?"
   ]
  },
  {
   "cell_type": "markdown",
   "id": "d43e360d",
   "metadata": {},
   "source": [
    "What makes it different from a list?\n",
    "### 1. Generally single datatype allowed."
   ]
  },
  {
   "cell_type": "code",
   "execution_count": 3,
   "id": "694978d2",
   "metadata": {},
   "outputs": [
    {
     "name": "stdout",
     "output_type": "stream",
     "text": [
      "This is a String <class 'str'>\n",
      "3 <class 'int'>\n",
      "-3.0 <class 'float'>\n",
      "<function fun at 0x00000241D5BA44A0> <class 'function'>\n",
      "----------------------------------------------------------------------------------------------------\n",
      "int32\n",
      "float64\n",
      "----------------------------------------------------------------------------------------------------\n",
      "[1.0 2 3]\n",
      "object\n"
     ]
    }
   ],
   "source": [
    "def fun():\n",
    "  return 0\n",
    "l = [\"This is a String\", 3, -3.0, fun]\n",
    "\n",
    "for ele in l:\n",
    "  print(ele, type(ele))\n",
    "\n",
    "print(\"-\"*100)\n",
    "\n",
    "nparr = np.array([1, 2, 3])\n",
    "print(nparr.dtype)\n",
    "nparr = np.array([1.0, 2, 3])\n",
    "print(nparr.dtype)\n",
    "\n",
    "print(\"-\"*100)\n",
    "\n",
    "# Heterogenous data is allowed but is not so useful\n",
    "nparr = np.array([1.0, 2, 3], dtype = object)\n",
    "print(nparr)\n",
    "print(np.array(l).dtype)"
   ]
  },
  {
   "cell_type": "markdown",
   "id": "ceeb2749",
   "metadata": {},
   "source": [
    "### 2. Size of each dimension is fixed"
   ]
  },
  {
   "cell_type": "code",
   "execution_count": 3,
   "id": "7007bf78",
   "metadata": {},
   "outputs": [
    {
     "name": "stdout",
     "output_type": "stream",
     "text": [
      "(3, 3)\n",
      "[[[[1. 1.]\n",
      "   [1. 1.]\n",
      "   [1. 1.]\n",
      "   [1. 1.]\n",
      "   [1. 1.]]\n",
      "\n",
      "  [[1. 1.]\n",
      "   [1. 1.]\n",
      "   [1. 1.]\n",
      "   [1. 1.]\n",
      "   [1. 1.]]]\n",
      "\n",
      "\n",
      " [[[1. 1.]\n",
      "   [1. 1.]\n",
      "   [1. 1.]\n",
      "   [1. 1.]\n",
      "   [1. 1.]]\n",
      "\n",
      "  [[1. 1.]\n",
      "   [1. 1.]\n",
      "   [1. 1.]\n",
      "   [1. 1.]\n",
      "   [1. 1.]]]]\n",
      "(2, 2, 5, 2)\n"
     ]
    }
   ],
   "source": [
    "l1 = [[1, 2, 3],\n",
    "     [1, 2],\n",
    "     [1]]\n",
    "l2 = [[1, 2, 3],\n",
    "      [4, 5, 6],\n",
    "      [7, 8, 9]]\n",
    "\n",
    "# nparr = np.array(l1)\n",
    "nparr = np.array(l2)\n",
    "\n",
    "print(nparr.shape)\n",
    "\n",
    "# Because of this, each np array has a specific shape, which describes the length in each dimension\n",
    "nparr = np.ones((2, 2, 5, 2))\n",
    "print(nparr)\n",
    "print(nparr.shape)"
   ]
  },
  {
   "cell_type": "markdown",
   "id": "096dbdd8",
   "metadata": {},
   "source": [
    "Because of the above two constraints, NumPy arrays can be stored as a contiguous block in memory, unlike lists which store references to elements. \n",
    "\n",
    "Also the computations on NumPy arrays happen in C in the backend (Vectorized computations), thus allowing much faster and cleaner computations, while being very intuitive to manipulate and use."
   ]
  },
  {
   "cell_type": "markdown",
   "id": "cd3260e9",
   "metadata": {},
   "source": [
    "# Element-wise Arithmetic and boolean operations"
   ]
  },
  {
   "cell_type": "code",
   "execution_count": 2,
   "id": "2a2af467",
   "metadata": {},
   "outputs": [
    {
     "name": "stdout",
     "output_type": "stream",
     "text": [
      "Time of vectorized element wise addition: 0.002385377883911133\n",
      "Time of non-vectorized element wise addition: 0.6644034385681152\n"
     ]
    }
   ],
   "source": [
    "arr1 = np.random.randint(1, 10, (1000, 1000))\n",
    "arr2 = np.random.randint(1, 10, (1000, 1000))\n",
    "\n",
    "start = time()\n",
    "# Code 1 (no for loops)\n",
    "arr3 = arr1 + arr2\n",
    "# Code 1 end\n",
    "end = time()\n",
    "print(f\"Time of vectorized element wise addition: {end - start}\")\n",
    "\n",
    "start = time()\n",
    "# Code 2\n",
    "for i in range(arr1.shape[0]):\n",
    "  for j in range(arr2.shape[1]):\n",
    "    arr3[i][j] = arr1[i][j] + arr2[i][j]\n",
    "# Code 2 end\n",
    "end = time()\n",
    "print(f\"Time of non-vectorized element wise addition: {end - start}\")\n"
   ]
  },
  {
   "cell_type": "code",
   "execution_count": 3,
   "id": "34073ca0",
   "metadata": {},
   "outputs": [
    {
     "name": "stdout",
     "output_type": "stream",
     "text": [
      "arr1 : \n",
      "[[6 5 1]\n",
      " [2 3 3]\n",
      " [4 9 1]]\n",
      "arr2 :\n",
      "[[2 4 9]\n",
      " [3 4 5]\n",
      " [7 5 1]]\n",
      "----------Arithmetic----------\n",
      "[[ 8  9 10]\n",
      " [ 5  7  8]\n",
      " [11 14  2]]\n",
      "[[ 9  8  4]\n",
      " [ 5  6  6]\n",
      " [ 7 12  4]]\n",
      "[[12 20  9]\n",
      " [ 6 12 15]\n",
      " [28 45  1]]\n",
      "[[3.         1.25       0.11111111]\n",
      " [0.66666667 0.75       0.6       ]\n",
      " [0.57142857 1.8        1.        ]]\n",
      "[[3 1 0]\n",
      " [0 0 0]\n",
      " [0 1 1]]\n",
      "[[0 1 1]\n",
      " [2 3 3]\n",
      " [4 4 0]]\n",
      "[[   36   625     1]\n",
      " [    8    81   243]\n",
      " [16384 59049     1]]\n"
     ]
    }
   ],
   "source": [
    "# We can do all kinds of element-wise operations\n",
    "arr1 = np.random.randint(1, 10, (3, 3))\n",
    "arr2 = np.random.randint(1, 10, (3, 3))\n",
    "\n",
    "print(f\"arr1 : \\n{arr1}\")\n",
    "print(\"arr2 :\")\n",
    "print(arr2)\n",
    "\n",
    "print(\"-\"*10 + \"Arithmetic\" + \"-\"*10)\n",
    "print(arr1 + arr2)\n",
    "print(arr1 + 3)     # even constants work!\n",
    "print(arr1 * arr2)\n",
    "print(arr1 / arr2)\n",
    "print(arr1 // arr2) # Integral division (floor)\n",
    "print(arr1 % arr2)\n",
    "print(arr1 ** arr2) # Even exponentiation!"
   ]
  },
  {
   "cell_type": "code",
   "execution_count": 4,
   "id": "e7a760fe",
   "metadata": {},
   "outputs": [
    {
     "name": "stdout",
     "output_type": "stream",
     "text": [
      "arr1 : \n",
      "[[6 5 1]\n",
      " [2 3 3]\n",
      " [4 9 1]]\n",
      "arr2 :\n",
      "[[2 4 9]\n",
      " [3 4 5]\n",
      " [7 5 1]]\n",
      "----------Boolean----------\n",
      "[[ True  True False]\n",
      " [False False False]\n",
      " [False  True False]]\n",
      "[[False False  True]\n",
      " [ True  True  True]\n",
      " [ True False False]]\n",
      "[[ True  True False]\n",
      " [False False False]\n",
      " [False  True  True]]\n",
      "[[False False False]\n",
      " [False False False]\n",
      " [False False  True]]\n",
      "[[ True  True  True]\n",
      " [ True  True  True]\n",
      " [ True  True False]]\n"
     ]
    }
   ],
   "source": [
    "print(f\"arr1 : \\n{arr1}\")\n",
    "print(\"arr2 :\")\n",
    "print(arr2)\n",
    "\n",
    "print(\"-\"*10 + \"Boolean\" + \"-\"*10)\n",
    "print(arr1 > arr2)\n",
    "print(arr1 < arr2)\n",
    "print(arr1 >= arr2)\n",
    "print(arr1 == arr2)\n",
    "print(arr1 != arr2)"
   ]
  },
  {
   "cell_type": "markdown",
   "id": "f0f24e9e",
   "metadata": {},
   "source": [
    "# **Indexing**"
   ]
  },
  {
   "cell_type": "code",
   "execution_count": null,
   "id": "98eda221",
   "metadata": {},
   "outputs": [],
   "source": [
    "arr1[...] # What can you put inside these brackets??\n",
    "\n",
    "# Ans: A LOT!\n",
    "# We have already seen masking, where we put a boolean np array of the same size"
   ]
  },
  {
   "cell_type": "markdown",
   "id": "c55b39be",
   "metadata": {},
   "source": [
    "### 1. Slicing"
   ]
  },
  {
   "cell_type": "code",
   "execution_count": null,
   "id": "ece88f24",
   "metadata": {},
   "outputs": [
    {
     "name": "stdout",
     "output_type": "stream",
     "text": [
      "[2 3 4 5]\n",
      "[ 2  3  4  5  6  7  8  9 10 11 12 13 14 15 16 17 18 19]\n",
      "[ 0  1  2  3  4  5  6  7  8  9 10 11]\n",
      "[0 2 4 6]\n"
     ]
    }
   ],
   "source": [
    "# Different ways to slice in a single dimension\n",
    "arr = np.arange(20)\n",
    "print(arr[2:6])\n",
    "print(arr[2:]) # Leave blank for the end\n",
    "print(arr[:-8])# Leave blank for start\n",
    "print(arr[0:8:2]) # [start : stop : step] (not including stop)"
   ]
  },
  {
   "cell_type": "markdown",
   "id": "aa003646",
   "metadata": {},
   "source": [
    "\n",
    "---\n",
    "**Question**: What will ```arr[::2]``` do?\n",
    "\n",
    "---"
   ]
  },
  {
   "cell_type": "code",
   "execution_count": 11,
   "id": "f14095b4",
   "metadata": {},
   "outputs": [
    {
     "name": "stdout",
     "output_type": "stream",
     "text": [
      "arr1 :\n",
      "[[3 7 7]\n",
      " [5 4 1]\n",
      " [1 6 7]]\n",
      "[[5 4 1]]\n",
      "[[5]]\n"
     ]
    }
   ],
   "source": [
    "# Two ways of slicing for multi-dim arrays, they are very different, be careful.\n",
    "print(\"arr1 :\")\n",
    "print(arr1)\n",
    "print(arr1[1:3][0:1]) # sliced the first dimension twice!\n",
    "print(arr1[1:2, 0:1]) # This is the \"correct\" way\n",
    "# I was stuck for 2 days once, not realizing that I sliced wrong."
   ]
  },
  {
   "cell_type": "markdown",
   "id": "89c5b89c",
   "metadata": {},
   "source": [
    "### 2. Boolean matrices as masks:\n",
    "\n",
    "Let's suppose that we want to get all the elements in arr1 that are greater than 5:"
   ]
  },
  {
   "cell_type": "code",
   "execution_count": null,
   "id": "3076e4e7",
   "metadata": {},
   "outputs": [
    {
     "name": "stdout",
     "output_type": "stream",
     "text": [
      "[7 7 6 7]\n"
     ]
    }
   ],
   "source": [
    "mask = arr1 > 5\n",
    "print(arr1[mask])"
   ]
  },
  {
   "cell_type": "markdown",
   "id": "e8400cf2",
   "metadata": {},
   "source": [
    "\n",
    "---\n",
    "**Question**: Given a NumPy array, ``arr``, print out all elements of `arr` that are strictly between **3** and **9**. \n",
    "\n",
    "**No for-loops!**\n",
    "\n",
    "---"
   ]
  },
  {
   "cell_type": "code",
   "execution_count": 5,
   "id": "b3767157",
   "metadata": {},
   "outputs": [
    {
     "data": {
      "text/plain": [
       "array([1, 3, 1, 2, 3, 2])"
      ]
     },
     "execution_count": 5,
     "metadata": {},
     "output_type": "execute_result"
    }
   ],
   "source": [
    "arr = np.random.randint(1, 5, 100)\n",
    "n = np.log2(arr.size)\n",
    "n = int(n)\n",
    "indices = 2 ** np.arange(n)\n",
    "arr[indices]"
   ]
  },
  {
   "cell_type": "markdown",
   "id": "f41f7be5",
   "metadata": {},
   "source": [
    "### 3. Array of indices"
   ]
  },
  {
   "cell_type": "code",
   "execution_count": 19,
   "id": "441c6a03",
   "metadata": {},
   "outputs": [
    {
     "name": "stdout",
     "output_type": "stream",
     "text": [
      "arr1 :\n",
      "[[3 7 7]\n",
      " [5 4 1]\n",
      " [1 6 7]]\n",
      "[1 3 6]\n"
     ]
    }
   ],
   "source": [
    "rows = [1, 0, 2]\n",
    "cols = [2, 0, 1]\n",
    "print(\"arr1 :\")\n",
    "print(arr1)\n",
    "print(arr1[rows, cols])"
   ]
  },
  {
   "cell_type": "markdown",
   "id": "be642c81",
   "metadata": {},
   "source": [
    "# **Broadcasting**"
   ]
  },
  {
   "cell_type": "markdown",
   "id": "97884fb3",
   "metadata": {},
   "source": [
    "Very powerful, very misunderstood\n",
    "\n",
    "When you want to do any element wise operation (discussed above) on np arrays with different shapes."
   ]
  },
  {
   "cell_type": "markdown",
   "id": "dedede63",
   "metadata": {},
   "source": [
    "Broadcasting has a rule (explained on the board), but it is advisable to use `np.newaxis` instead in the lab exam.\n",
    "\n",
    "Suppose you want to get every pair wise sum of elements from a 1-dim array, `arr`"
   ]
  },
  {
   "cell_type": "code",
   "execution_count": 6,
   "id": "f204f236",
   "metadata": {},
   "outputs": [
    {
     "name": "stdout",
     "output_type": "stream",
     "text": [
      "[2 3 4 1 1]\n",
      "(5,)\n",
      "(5, 1)\n",
      "(1, 5)\n",
      "[[4 5 6 3 3]\n",
      " [5 6 7 4 4]\n",
      " [6 7 8 5 5]\n",
      " [3 4 5 2 2]\n",
      " [3 4 5 2 2]]\n"
     ]
    }
   ],
   "source": [
    "arr = np.random.randint(1, 5, 5)\n",
    "print(arr)\n",
    "print(arr.shape)                # (5,)\n",
    "print(arr[:, np.newaxis].shape) # (5, 1) (very different from (5,))\n",
    "print(arr[np.newaxis, :].shape) # (1, 5)\n",
    "\n",
    "pair_wise_sum = arr[:, np.newaxis] + arr\n",
    "\n",
    "print(pair_wise_sum)"
   ]
  },
  {
   "cell_type": "markdown",
   "id": "4ecc45a8",
   "metadata": {},
   "source": [
    "\n",
    "---\n",
    "**Question:** Which of the following broadcasts work and which give error?\n",
    "1. `[1, 2, 3] + [1, 2, 3, 4]`\n",
    "\n",
    "2. `[[1, 2], [2, 3], [3, 4]] + [1, 2, 3] `\n",
    "\n",
    "3. `[[[0], [1]], [[1], [2]]] > [[2], [-1]]`\n"
   ]
  },
  {
   "cell_type": "code",
   "execution_count": 6,
   "id": "44bfdd6e",
   "metadata": {},
   "outputs": [
    {
     "name": "stdout",
     "output_type": "stream",
     "text": [
      "Nope\n",
      "Nope\n",
      "[[[False]\n",
      "  [ True]]\n",
      "\n",
      " [[False]\n",
      "  [ True]]]\n"
     ]
    }
   ],
   "source": [
    "# 1.\n",
    "a = np.array([1, 2, 3])\n",
    "b = np.array([1, 2, 3, 4])\n",
    "try:\n",
    "  print(a + b)\n",
    "except:\n",
    "  print(\"Nope\")\n",
    "# 2.\n",
    "a = np.array([[1, 2], \n",
    "              [2, 3], \n",
    "              [3, 4]])\n",
    "b = np.array([1, 2, 3])\n",
    "try:\n",
    "  print(a + b)\n",
    "except:\n",
    "  print(\"Nope\")\n",
    "# 3.\n",
    "a = np.array([[[0], \n",
    "               [1]], \n",
    "              [[1], \n",
    "               [2]]])\n",
    "b = np.array([[2], [-1]])\n",
    "try:\n",
    "  print(a > b)\n",
    "except:\n",
    "  print(\"Nope\")\n"
   ]
  },
  {
   "cell_type": "markdown",
   "id": "47f35962",
   "metadata": {},
   "source": [
    "---"
   ]
  },
  {
   "cell_type": "markdown",
   "id": "761fefa3",
   "metadata": {},
   "source": [
    "# **Modification Operations**\n",
    "We will see `np.stack` and `np.concatenate` (`np.hstack` and `np.vstack` as well)"
   ]
  },
  {
   "cell_type": "code",
   "execution_count": 27,
   "id": "055fd0e0",
   "metadata": {},
   "outputs": [],
   "source": [
    "a = np.array([[1, 2, 3],\n",
    "              [5, 6, 7]])\n",
    "b = np.array([2, 3, 4])"
   ]
  },
  {
   "cell_type": "code",
   "execution_count": null,
   "id": "985a79e4",
   "metadata": {},
   "outputs": [
    {
     "name": "stdout",
     "output_type": "stream",
     "text": [
      "(2, 3)\n",
      "(3,)\n",
      "(2, 3, 3)\n",
      "(3, 2, 3)\n",
      "(3, 3, 2)\n"
     ]
    }
   ],
   "source": [
    "# np.stack\n",
    "# Creates new axis at 'axis', the input array must have the same shape!\n",
    "print(a.shape)\n",
    "print(b.shape)\n",
    "bc = b[np.newaxis, :]\n",
    "bc = b.reshape((1, 3))\n",
    "\n",
    "bc = np.concatenate((b, b, b), axis = 0)\n",
    "ac = np.array([a, b])\n",
    "\n",
    "ac = np.vstack((a, b[np.newaxis, :])) # better practice\n",
    "ac\n",
    "print(np.stack((ac, bc), axis = 0).shape)\n",
    "print(np.stack((ac, bc), axis = 1).shape)\n",
    "print(np.stack((ac, bc), axis = 2).shape)"
   ]
  },
  {
   "cell_type": "code",
   "execution_count": null,
   "id": "1328374e",
   "metadata": {},
   "outputs": [
    {
     "name": "stdout",
     "output_type": "stream",
     "text": [
      "(3, 3)\n",
      "(3, 3)\n"
     ]
    }
   ],
   "source": [
    "# np.concatenate\n",
    "# the axis at which you are concatenating can be different\n",
    "# every other axis (dimension) should be of same size\n",
    "print(ac.shape)\n",
    "print(bc.shape)\n",
    "\n",
    "ac = np.stack((a, a, a), axis = 1)\n",
    "bc = np.stack((bc, bc), axis = 1)"
   ]
  },
  {
   "cell_type": "code",
   "execution_count": null,
   "id": "34f5a734",
   "metadata": {},
   "outputs": [],
   "source": [
    "arr = np.random.randint(1, 10, 10)\n",
    "\n",
    "M = 2*arr[:, np.newaxis] - arr[np.newaxis, :]\n",
    "M = M**2\n",
    "\n",
    "indices = np.arange(10)\n",
    "X = indices[:, np.newaxis] - indices[np.newaxis, :]\n",
    "np.sum(M[X < 0])"
   ]
  },
  {
   "cell_type": "markdown",
   "id": "928c0f24",
   "metadata": {},
   "source": [
    "**Tip:** Keep `print(arr.shape)` handy!"
   ]
  },
  {
   "cell_type": "code",
   "execution_count": 26,
   "id": "fb3905e3",
   "metadata": {},
   "outputs": [
    {
     "name": "stdout",
     "output_type": "stream",
     "text": [
      "(3, 3)\n",
      "(3, 3)\n",
      "[[1 2 3]\n",
      " [2 3 4]\n",
      " [2 3 4]]\n",
      "[[2 3 4]\n",
      " [2 3 4]\n",
      " [2 3 4]]\n",
      "[[1 2 3 2 3 4]\n",
      " [2 3 4 2 3 4]\n",
      " [2 3 4 2 3 4]]\n"
     ]
    }
   ],
   "source": [
    "# What are their shapes?\n",
    "print(ac.shape)\n",
    "print(bc.shape)\n",
    "print(ac)\n",
    "print(bc)\n",
    "print(np.concatenate((ac, bc), axis = 1))"
   ]
  },
  {
   "cell_type": "markdown",
   "id": "1892da45",
   "metadata": {},
   "source": [
    "**Note**: `np.vstack` and `np.hstack` behaviour is similar to `np.concatenate`, not `np.stack`!"
   ]
  },
  {
   "cell_type": "markdown",
   "id": "d7187a20",
   "metadata": {},
   "source": [
    "**Tip**: Try to only use `np.concatenate` and `np.stack`, you will only get confused with `np.vstack` and `np.hstack`\n",
    ". You can't keep wondering in exam what it means to stack and which direction is horizontal and which is vertical."
   ]
  },
  {
   "cell_type": "code",
   "execution_count": null,
   "id": "73707550",
   "metadata": {},
   "outputs": [
    {
     "name": "stdout",
     "output_type": "stream",
     "text": [
      "[[1 2 3 1]\n",
      " [2 3 4 2]]\n"
     ]
    }
   ],
   "source": [
    "# np.hstack when you want to increase the size horizontally (second axis for every thing except 1-D arrays, Why?)\n",
    "a = np.array([[1, 2, 3], \n",
    "              [2, 3, 4]])\n",
    "b = np.array([[1], \n",
    "              [2]])\n",
    "\n",
    "print(np.hstack((a, b)))\n"
   ]
  },
  {
   "cell_type": "code",
   "execution_count": null,
   "id": "27eae158",
   "metadata": {},
   "outputs": [
    {
     "name": "stdout",
     "output_type": "stream",
     "text": [
      "[[1 2 3]\n",
      " [2 3 4]]\n",
      "[[1 2 3]\n",
      " [2 3 4]\n",
      " [2 3 4]]\n"
     ]
    }
   ],
   "source": [
    "# np.vstack for the first dimension (axis) (expect for 1-D, where it reshapes it to (1, N))\n",
    "a = np.array([1, 2, 3])\n",
    "b = np.array([2, 3, 4])\n",
    "print(np.vstack((a, b)))\n",
    "\n",
    "a = np.vstack((a, b))\n",
    "print(np.vstack((a, b)))"
   ]
  },
  {
   "cell_type": "markdown",
   "id": "0d0b1e8a",
   "metadata": {},
   "source": [
    "# **Useful NP Functions**\n",
    "\n",
    "---\n",
    "\n",
    "Array Creation & Initialization\n",
    "\n",
    "| Function                            | Description                                |\n",
    "|-------------------------------------|--------------------------------------------|\n",
    "| `np.array()`                        | Create an array from list/tuple            |\n",
    "| `np.zeros((shape))`                 | All zeros                                  |\n",
    "| `np.ones((shape))`                  | All ones                                   |\n",
    "| `np.full((shape), val)`             | All elements set to `val`                  |\n",
    "| `np.eye(n)`                         | Identity matrix                            |\n",
    "| `np.arange(start, stop, step)`      | Like `range()`, evenly spaced values       |\n",
    "| `np.linspace(start, stop, num)`     | `num` values between start and stop        |\n",
    "| `np.random.rand(shape)`             | Uniform random values between 0 and 1      |\n",
    "| `np.random.randn(shape)`            | Standard normal distribution               |\n",
    "| `np.random.randint(low, high, size)`| Random integers                            |\n",
    "\n",
    "---\n",
    "\n",
    "Shape & Structure Manipulation\n",
    "\n",
    "| Function                            | Description                                |\n",
    "|-------------------------------------|--------------------------------------------|\n",
    "| `a.reshape(new_shape)`              | Change shape without changing data         |\n",
    "| `a.flatten()`                       | Flatten to 1D array                        |\n",
    "| `np.transpose(a)` / `a.T`           | Transpose array                            |\n",
    "| `np.expand_dims(a, axis)`           | Add a dimension                            |\n",
    "| `np.squeeze(a)`                     | Remove dimensions of size 1                |\n",
    "| `np.stack([a, b], axis=0)`          | Stack arrays along a new axis              |\n",
    "| `np.hstack((a, b))`                 | Horizontal stack                           |\n",
    "| `np.vstack((a, b))`                 | Vertical stack                             |\n",
    "| `np.concatenate((a, b), axis=?)`    | Concatenate arrays                         |\n",
    "\n",
    "---\n",
    "\n",
    "Mathematical Operations\n",
    "\n",
    "| Function                  | Description                              |\n",
    "|---------------------------|------------------------------------------|\n",
    "| `np.sum(a, axis=?)`       | Sum over an axis                         |\n",
    "| `np.mean(a, axis=?)`      | Mean                                     |\n",
    "| `np.median(a)`            | Median                                   |\n",
    "| `np.std(a)`               | Standard deviation                       |\n",
    "| `np.var(a)`               | Variance                                 |\n",
    "| `np.min(a)` / `np.max(a)` | Min / Max                                |\n",
    "| `np.argmin(a)` / `np.argmax(a)` | Indices of min / max            |\n",
    "| `np.round(a, decimals)`   | Rounding                                 |\n",
    "\n",
    "---\n",
    "\n",
    "Linear Algebra  (`np.linalg`)\n",
    "\n",
    "| Function                        | Description                              |\n",
    "|---------------------------------|------------------------------------------|\n",
    "| `np.linalg.norm(a)`             | Vector/matrix norm                       |\n",
    "| `np.dot(a, b)`                  | Dot product                              |\n",
    "| `np.matmul(a, b)`/ `a @ b`      | Matrix multiplication                    |\n",
    "| `np.linalg.inv(a)`              | Matrix inverse                           |\n",
    "| `np.linalg.det(a)`              | Determinant                              |\n",
    "\n",
    "---\n",
    "\n",
    "Logical & Comparison\n",
    "\n",
    "| Function                  | Description                              |\n",
    "|---------------------------|------------------------------------------|\n",
    "| `np.all(a)` / `np.any(a)` | Check if all/any values are `True`       |\n",
    "| `np.where(cond, x, y)`    | Element-wise `if cond: x else: y`        |\n",
    "| `np.isclose(a, b)`        | Check element-wise approximate equality  |\n",
    "| `np.equal(a, b)`          | Check element-wise equality              |\n",
    "\n",
    "---\n"
   ]
  },
  {
   "cell_type": "markdown",
   "id": "83b0383b",
   "metadata": {},
   "source": [
    "**Tip**: If you think (or don't think) that there might be a function for XYZ, there probably is."
   ]
  },
  {
   "cell_type": "markdown",
   "id": "8b477929",
   "metadata": {},
   "source": [
    "\n",
    "---\n",
    "**Question**: Given a input array `r` and `m` of positions and masses of point masses in the 2D plane `r.shape = (n, 2)` and `m.shape = (n,)`. Find the total Gravitational force (vector) on each of the masses (assume G = 1).\n",
    "\n",
    "**No for-loops, otherwise you get a beating :)**\n",
    "\n",
    "(*Hint : break it down into steps, what do you need first, the pair wise distance vector matrix (use something starting with Bro...), then this thing divided by the square of the distance (np.linalg.norm) (Take care of the diagonal entries). Then get the pair wise Force, then only one step remains, ... Figure it out on your own :).*)\n",
    "\n",
    "---"
   ]
  },
  {
   "cell_type": "markdown",
   "id": "dba779a0",
   "metadata": {},
   "source": [
    "Do you see why numpy (and python) is so powerful, imagine how much more code you have to write in C++."
   ]
  },
  {
   "cell_type": "code",
   "execution_count": null,
   "id": "e412017e",
   "metadata": {},
   "outputs": [],
   "source": []
  },
  {
   "cell_type": "markdown",
   "id": "01376210",
   "metadata": {},
   "source": [
    "# **Common mistakes**"
   ]
  },
  {
   "cell_type": "markdown",
   "id": "b5926b59",
   "metadata": {},
   "source": []
  }
 ],
 "metadata": {
  "kernelspec": {
   "display_name": "zephyr1",
   "language": "python",
   "name": "python3"
  },
  "language_info": {
   "codemirror_mode": {
    "name": "ipython",
    "version": 3
   },
   "file_extension": ".py",
   "mimetype": "text/x-python",
   "name": "python",
   "nbconvert_exporter": "python",
   "pygments_lexer": "ipython3",
   "version": "3.9.20"
  }
 },
 "nbformat": 4,
 "nbformat_minor": 5
}
